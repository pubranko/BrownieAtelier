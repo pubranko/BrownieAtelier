{
 "cells": [
  {
   "cell_type": "code",
   "execution_count": 2,
   "metadata": {},
   "outputs": [],
   "source": [
    "import os\n",
    "import subprocess\n",
    "from selenium import webdriver\n",
    "# from selenium.webdriver import FirefoxOptions\n",
    "# from selenium.webdriver.firefox.service import Service\n",
    "# from selenium.webdriver.firefox.firefox_profile import FirefoxProfile\n",
    "\n",
    "from selenium.webdriver.chrome.service import Service\n",
    "\n",
    "from selenium.webdriver.remote.webelement import WebElement\n",
    "from selenium.webdriver.support.wait import WebDriverWait\n",
    "from selenium.webdriver.common.by import By\n",
    "from selenium.webdriver.support import expected_conditions as EC\n",
    "from selenium.webdriver.common.action_chains import ActionChains\n",
    "# from selenium.webdriver import ActionChains\n",
    "\n",
    "\n",
    "from news_crawl import settings\n",
    "\n"
   ]
  },
  {
   "cell_type": "code",
   "execution_count": 48,
   "metadata": {},
   "outputs": [],
   "source": [
    "# options ###########################################\n",
    "options = webdriver.ChromeOptions()\n",
    "\n",
    "options.add_argument('--no-sandbox')  ## Sandboxの外でプロセスを動作させる\n",
    "# options.add_argument('--headless')  ## ブラウザを表示しない　CLIで起動する際は必須\n",
    "options.add_argument('--disable-dev-shm-usage')  ## /dev/shmパーティションの使用を禁止し、パーティションが小さすぎることによる、クラッシュを回避する。\n",
    "\n",
    "# options.profile = profile\n",
    "# options.set_capability('pageLoadStrategy', 'normal')    # すべてのリソースをダウンロードするのを待つ\n",
    "options.set_capability('pageLoadStrategy', 'none')    # すべてのリソースをダウンロードするの一切待たない\n",
    "\n"
   ]
  },
  {
   "cell_type": "code",
   "execution_count": 57,
   "metadata": {},
   "outputs": [],
   "source": [
    "# service ###########################################\n",
    "executable_path=r\"/usr/local/bin/chromedriver\"\n",
    "# executable_path=r\"/usr/bin/google-chrome\"\n",
    "# executable_path=r\"/mnt/c/Program Files/Google/Chrome/Application/chrome.exe\"\n",
    "service=Service(\n",
    "    executable_path= executable_path, #None,\n",
    "    # port= 0,\n",
    "    service_args = ['--log', 'info'],\n",
    "    # service_args = ['--log-level=INFO'], # これだとエラーだった\n",
    "    # log_path= \"aaa.log\",\n",
    "    # env= None,\n",
    "    log_output=subprocess.STDOUT,\n",
    ")"
   ]
  },
  {
   "cell_type": "code",
   "execution_count": 58,
   "metadata": {},
   "outputs": [
    {
     "name": "stderr",
     "output_type": "stream",
     "text": [
      "2023/12/02 00:36:02.745972 cmd_run.go:1055: WARNING: cannot start document portal: dial unix /run/user/1000/bus: connect: no such file or directory\n"
     ]
    },
    {
     "name": "stdout",
     "output_type": "stream",
     "text": [
      "Starting ChromeDriver 119.0.6045.159 (eaa767197fa7dd412133d1b84f7eb60da43409c9-refs/branch-heads/6045@{#1327}) on port 49541\n",
      "Only local connections are allowed.\n",
      "Please see https://chromedriver.chromium.org/security-considerations for suggestions on keeping ChromeDriver safe.\n",
      "ChromeDriver was started successfully.\n"
     ]
    }
   ],
   "source": [
    "# ドライバー：ここでブラウザが起動する ###########################################\n",
    "driver = webdriver.Chrome(\n",
    "    options=options,\n",
    "    service=service,\n",
    "    # path=\"\",  # chrmeのプロファイルパスを指定可能\n",
    "\n",
    "    # executable_path: str = \"chromedriver\",\n",
    "    # port: int = DEFAULT_PORT,\n",
    "    # options: Any | None = None,\n",
    "    # service_args: Any | None = None,\n",
    "    # desired_capabilities: Any | None = None,\n",
    "    # service_log_path: Any | None = DEFAULT_SERVICE_LOG_PATH,\n",
    "    # chrome_options: Any | None = None,\n",
    "    # service: Any | None = None,\n",
    "    # keep_alive: bool = True\n",
    ")"
   ]
  },
  {
   "cell_type": "code",
   "execution_count": 59,
   "metadata": {},
   "outputs": [],
   "source": [
    "driver.get(\"https://mainichi.jp/flash/\")\n",
    "# driver.get(\"https://jp.reuters.com/arc/outboundfeeds/news-sitemap/?outputType=xml\")\n"
   ]
  },
  {
   "cell_type": "code",
   "execution_count": 64,
   "metadata": {},
   "outputs": [
    {
     "data": {
      "text/plain": [
       "<selenium.webdriver.remote.webelement.WebElement (session=\"f5e608950b82432b9726c613eef2b909\", element=\"FF0DF8DBDFDB65A724928E93E6281603_element_25\")>"
      ]
     },
     "execution_count": 64,
     "metadata": {},
     "output_type": "execute_result"
    }
   ],
   "source": [
    "target_article_element = f'#article-list > ul > li:nth-child({22})'\n",
    "WebDriverWait(driver, 60).until(\n",
    "    EC.presence_of_element_located((By.CSS_SELECTOR, target_article_element)))\n",
    "\n",
    "target_next_page_element = f'div.main-contents span.link-more'\n",
    "WebDriverWait(driver, 60).until(\n",
    "    EC.presence_of_element_located((By.CSS_SELECTOR, target_next_page_element)))"
   ]
  },
  {
   "cell_type": "code",
   "execution_count": 67,
   "metadata": {},
   "outputs": [
    {
     "name": "stdout",
     "output_type": "stream",
     "text": [
      "もっと見る\n",
      "<class 'selenium.webdriver.remote.webelement.WebElement'>\n"
     ]
    }
   ],
   "source": [
    "elem: WebElement = driver.find_element(By.CSS_SELECTOR, target_next_page_element)\n",
    "print(elem.text)\n",
    "print(type(elem))\n",
    "action_chains = ActionChains(driver)\n",
    "action_chains.pause(3)\n",
    "action_chains.scroll_to_element(elem)\n",
    "action_chains.perform()\n",
    "# ActionChains(driver).move_to_element(elem).pause(2).perform()\n",
    "# ActionChains(driver).move_to_element(elem).pause(2).perform()\n",
    "# ActionChains(driver).move_to_element(elem).pause(3)\n",
    "# ActionChains(driver).pause(3).perform()\n",
    "# ActionChains(driver).pause(3).perform()\n",
    "# ActionChains(driver).pause(3).scroll_to_element(elem).pause(2).perform()\n",
    "# ActionChains(driver).pause(3).scroll_to_element(elem)\n",
    "\n",
    "\n",
    "# driver.execute_script(\"arguments[0].scrollIntoView();\", elem)"
   ]
  },
  {
   "cell_type": "code",
   "execution_count": null,
   "metadata": {},
   "outputs": [],
   "source": [
    "# ブラウザを閉じる\n",
    "driver.quit()"
   ]
  },
  {
   "cell_type": "code",
   "execution_count": 3,
   "metadata": {},
   "outputs": [
    {
     "name": "stderr",
     "output_type": "stream",
     "text": [
      "WARNING:root:Can not find chromedriver for currently installed chrome version.\n"
     ]
    },
    {
     "name": "stdout",
     "output_type": "stream",
     "text": [
      "118\n"
     ]
    }
   ],
   "source": []
  }
 ],
 "metadata": {
  "interpreter": {
   "hash": "689063c9b2dc12dba9972941d84614aafdd9b3849a10a465f4e0dfb87c72b835"
  },
  "kernelspec": {
   "display_name": "Python 3.10.4 ('.venv': venv)",
   "language": "python",
   "name": "python3"
  },
  "language_info": {
   "codemirror_mode": {
    "name": "ipython",
    "version": 3
   },
   "file_extension": ".py",
   "mimetype": "text/x-python",
   "name": "python",
   "nbconvert_exporter": "python",
   "pygments_lexer": "ipython3",
   "version": "3.10.12"
  },
  "orig_nbformat": 4
 },
 "nbformat": 4,
 "nbformat_minor": 2
}
