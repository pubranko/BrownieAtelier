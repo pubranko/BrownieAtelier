{
 "cells": [
  {
   "cell_type": "code",
   "execution_count": 70,
   "metadata": {},
   "outputs": [],
   "source": [
    "import os\n",
    "import subprocess\n",
    "from selenium import webdriver\n",
    "from selenium.webdriver import FirefoxOptions\n",
    "from selenium.webdriver.firefox.service import Service\n",
    "from selenium.webdriver.firefox.firefox_profile import FirefoxProfile\n",
    "\n",
    "from selenium.webdriver.remote.webelement import WebElement\n",
    "from selenium.webdriver.support.wait import WebDriverWait\n",
    "from selenium.webdriver.common.by import By\n",
    "from selenium.webdriver.support import expected_conditions as EC\n",
    "from selenium.webdriver.common.action_chains import ActionChains\n",
    "# from selenium.webdriver import ActionChains\n",
    "\n",
    "\n",
    "from news_crawl import settings\n",
    "\n",
    "# preferences #########################################\n",
    "# scrapyの設定からpreferences情報を取得（デフォルト値）\n",
    "set_preferences: dict[str,int] = settings.SELENIUM_DRIVER_SET_PREFERENCE\n",
    "# 上記の値をカスタマイズしたい場合\n",
    "set_preferences.update({\n",
    "    # 'permissions.default.image': 2,                         # 画像のダウンロード禁止\n",
    "    # 'permissions.default.image.animation_mode': 2,          # gitなどのアニメーションのダウンロード禁止\n",
    "    # 'permissions.default.stylesheet': 2,                    # cssのダウンロード禁止\n",
    "    # 'dom.ipc.plugins.enabled.libflashplayer.so': 'false',   # Flashを使わない\n",
    "})\n",
    "profile = FirefoxProfile(profile_directory='firefox_profile')   # firefoxのプロファイルが格納されているディレクトリ\n",
    "# profile = FirefoxProfile()   # 広告ブロックがNG扱いされたのでプロファイル未使用、、、\n",
    "for set_preference_key, set_preference_value in set_preferences.items():    # さらにプロファイルをカスタマイズする場合、set_preferenceで追加できる。\n",
    "    profile.set_preference(set_preference_key, set_preference_value)\n"
   ]
  },
  {
   "cell_type": "code",
   "execution_count": 77,
   "metadata": {},
   "outputs": [],
   "source": [
    "# options ###########################################\n",
    "options = FirefoxOptions()\n",
    "# options.add_argument('--headless')    # ヘッドレスモード\n",
    "options.profile = profile\n",
    "\n",
    "options.log.level = \"INFO\""
   ]
  },
  {
   "cell_type": "code",
   "execution_count": 84,
   "metadata": {},
   "outputs": [],
   "source": [
    "# service ###########################################\n",
    "service=Service(\n",
    "    executable_path= None,\n",
    "    port= 0,\n",
    "    service_args = ['--log', 'info'],\n",
    "    # service_args = ['--log-level=INFO'], これだとエラーだった\n",
    "    log_output= subprocess.DEVNULL,\n",
    "    env= None,\n",
    ")"
   ]
  },
  {
   "cell_type": "code",
   "execution_count": 85,
   "metadata": {},
   "outputs": [],
   "source": [
    "# ドライバー：ここでブラウザが起動する ###########################################\n",
    "driver = webdriver.Firefox(\n",
    "    options=options,\n",
    "    service=service,\n",
    ")"
   ]
  },
  {
   "cell_type": "code",
   "execution_count": 86,
   "metadata": {},
   "outputs": [],
   "source": [
    "driver.get(\"https://mainichi.jp/flash/\")\n",
    "# driver.get(\"https://jp.reuters.com/arc/outboundfeeds/news-sitemap/?outputType=xml\")\n"
   ]
  },
  {
   "cell_type": "code",
   "execution_count": 87,
   "metadata": {},
   "outputs": [
    {
     "data": {
      "text/plain": [
       "<selenium.webdriver.remote.webelement.WebElement (session=\"aab1c854-3753-4657-bbee-f1311c4d7bdd\", element=\"35fec2b9-f665-47a8-820d-8492e7e404e2\")>"
      ]
     },
     "execution_count": 87,
     "metadata": {},
     "output_type": "execute_result"
    }
   ],
   "source": [
    "target_article_element = f'#article-list > ul > li:nth-child({20})'\n",
    "WebDriverWait(driver, 60).until(\n",
    "    EC.presence_of_element_located((By.CSS_SELECTOR, target_article_element)))\n",
    "\n",
    "target_next_page_element = f'div.main-contents span.link-more'\n",
    "WebDriverWait(driver, 60).until(\n",
    "    EC.presence_of_element_located((By.CSS_SELECTOR, target_next_page_element)))"
   ]
  },
  {
   "cell_type": "code",
   "execution_count": 88,
   "metadata": {},
   "outputs": [
    {
     "name": "stdout",
     "output_type": "stream",
     "text": [
      "もっと見る\n",
      "<class 'selenium.webdriver.remote.webelement.WebElement'>\n"
     ]
    }
   ],
   "source": [
    "elem: WebElement = driver.find_element(By.CSS_SELECTOR, target_next_page_element)\n",
    "print(elem.text)\n",
    "print(type(elem))\n",
    "action_chains = ActionChains(driver)\n",
    "action_chains.pause(3)\n",
    "# action_chains.reset_actions()\n",
    "# action_chains.scroll_to_element(elem)\n",
    "driver.execute_script('arguments[0].scrollIntoView();', elem)\n",
    "\n",
    "# action_chains.reset_actions()\n",
    "# action_chains.perform()\n",
    "driver.execute_script('arguments[0].click();', elem)\n",
    "\n",
    "\n",
    "# action_chains.reset_actions()\n",
    "# ActionChains(driver).move_to_element(elem).pause(2).perform()\n",
    "# ActionChains(driver).move_to_element(elem).pause(2).perform()\n",
    "# ActionChains(driver).move_to_element(elem).pause(3)\n",
    "# ActionChains(driver).pause(3).perform()\n",
    "# ActionChains(driver).pause(3).perform()\n",
    "# ActionChains(driver).pause(3).scroll_to_element(elem).pause(2).perform()\n",
    "# ActionChains(driver).pause(3).scroll_to_element(elem)\n",
    "\n",
    "\n",
    "# driver.execute_script(\"arguments[0].scrollIntoView();\", elem)"
   ]
  },
  {
   "cell_type": "code",
   "execution_count": 89,
   "metadata": {},
   "outputs": [],
   "source": [
    "# ブラウザを閉じる\n",
    "driver.quit()"
   ]
  }
 ],
 "metadata": {
  "interpreter": {
   "hash": "689063c9b2dc12dba9972941d84614aafdd9b3849a10a465f4e0dfb87c72b835"
  },
  "kernelspec": {
   "display_name": "Python 3.10.4 ('.venv': venv)",
   "language": "python",
   "name": "python3"
  },
  "language_info": {
   "codemirror_mode": {
    "name": "ipython",
    "version": 3
   },
   "file_extension": ".py",
   "mimetype": "text/x-python",
   "name": "python",
   "nbconvert_exporter": "python",
   "pygments_lexer": "ipython3",
   "version": "3.10.12"
  },
  "orig_nbformat": 4
 },
 "nbformat": 4,
 "nbformat_minor": 2
}
